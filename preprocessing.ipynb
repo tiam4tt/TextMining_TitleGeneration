{
 "cells": [
  {
   "cell_type": "code",
   "execution_count": 15,
   "metadata": {},
   "outputs": [],
   "source": [
    "import os\n",
    "import pandas as pd\n",
    "\n",
    "folder_path = '.'  # Use current directory\n",
    "script_name = 'preprocessing.ipynb'  # Name of the script to exclude\n",
    "\n",
    "merged_data = pd.DataFrame()\n",
    "\n",
    "for filename in os.listdir(folder_path):\n",
    "    if (\n",
    "        filename.startswith('articles_data') and\n",
    "        'articles_links' not in filename and\n",
    "        filename != script_name\n",
    "    ):\n",
    "        file_path = os.path.join(folder_path, filename)\n",
    "        df = pd.read_csv(file_path)\n",
    "        merged_data = pd.concat([merged_data, df], ignore_index=True)\n",
    "\n",
    "merged_data.to_csv(os.path.join(folder_path, 'merged_articles_data.csv'), index=False) "
   ]
  },
  {
   "cell_type": "code",
   "execution_count": 16,
   "metadata": {},
   "outputs": [
    {
     "name": "stderr",
     "output_type": "stream",
     "text": [
      "C:\\Users\\PC\\AppData\\Local\\Temp\\ipykernel_6168\\3029773083.py:1: DtypeWarning: Columns (3,4) have mixed types. Specify dtype option on import or set low_memory=False.\n",
      "  df = pd.read_csv('merged_articles_data.csv')\n"
     ]
    },
    {
     "data": {
      "text/plain": [
       "(2334762, 5)"
      ]
     },
     "execution_count": 16,
     "metadata": {},
     "output_type": "execute_result"
    }
   ],
   "source": [
    "df = pd.read_csv('merged_articles_data.csv')\n",
    "df.shape\n"
   ]
  },
  {
   "cell_type": "code",
   "execution_count": 17,
   "metadata": {},
   "outputs": [
    {
     "data": {
      "text/html": [
       "<div>\n",
       "<style scoped>\n",
       "    .dataframe tbody tr th:only-of-type {\n",
       "        vertical-align: middle;\n",
       "    }\n",
       "\n",
       "    .dataframe tbody tr th {\n",
       "        vertical-align: top;\n",
       "    }\n",
       "\n",
       "    .dataframe thead th {\n",
       "        text-align: right;\n",
       "    }\n",
       "</style>\n",
       "<table border=\"1\" class=\"dataframe\">\n",
       "  <thead>\n",
       "    <tr style=\"text-align: right;\">\n",
       "      <th></th>\n",
       "      <th>url</th>\n",
       "      <th>title</th>\n",
       "      <th>abstract</th>\n",
       "      <th>introduction</th>\n",
       "      <th>conclusion</th>\n",
       "    </tr>\n",
       "  </thead>\n",
       "  <tbody>\n",
       "    <tr>\n",
       "      <th>0</th>\n",
       "      <td>https://link.springer.com/article/10.1007/BF01...</td>\n",
       "      <td>Einladung</td>\n",
       "      <td>NaN</td>\n",
       "      <td>NaN</td>\n",
       "      <td>NaN</td>\n",
       "    </tr>\n",
       "    <tr>\n",
       "      <th>1</th>\n",
       "      <td>https://link.springer.com/article/10.1007/BF01...</td>\n",
       "      <td>Bemerkungen zu E. A. Feoktistow's “Einige Wort...</td>\n",
       "      <td>NaN</td>\n",
       "      <td>NaN</td>\n",
       "      <td>NaN</td>\n",
       "    </tr>\n",
       "    <tr>\n",
       "      <th>2</th>\n",
       "      <td>https://link.springer.com/article/10.1007/BF01...</td>\n",
       "      <td>Entgegnung</td>\n",
       "      <td>NaN</td>\n",
       "      <td>NaN</td>\n",
       "      <td>NaN</td>\n",
       "    </tr>\n",
       "    <tr>\n",
       "      <th>3</th>\n",
       "      <td>https://link.springer.com/article/10.1007/BF01...</td>\n",
       "      <td>Zei weitere Fälle von Kaiserschnitt (Nr. 5 und...</td>\n",
       "      <td>NaN</td>\n",
       "      <td>NaN</td>\n",
       "      <td>NaN</td>\n",
       "    </tr>\n",
       "    <tr>\n",
       "      <th>4</th>\n",
       "      <td>https://link.springer.com/article/10.1007/BF01...</td>\n",
       "      <td>Monsieur le professeur!</td>\n",
       "      <td>NaN</td>\n",
       "      <td>NaN</td>\n",
       "      <td>NaN</td>\n",
       "    </tr>\n",
       "  </tbody>\n",
       "</table>\n",
       "</div>"
      ],
      "text/plain": [
       "                                                 url  \\\n",
       "0  https://link.springer.com/article/10.1007/BF01...   \n",
       "1  https://link.springer.com/article/10.1007/BF01...   \n",
       "2  https://link.springer.com/article/10.1007/BF01...   \n",
       "3  https://link.springer.com/article/10.1007/BF01...   \n",
       "4  https://link.springer.com/article/10.1007/BF01...   \n",
       "\n",
       "                                               title abstract introduction  \\\n",
       "0                                          Einladung      NaN          NaN   \n",
       "1  Bemerkungen zu E. A. Feoktistow's “Einige Wort...      NaN          NaN   \n",
       "2                                         Entgegnung      NaN          NaN   \n",
       "3  Zei weitere Fälle von Kaiserschnitt (Nr. 5 und...      NaN          NaN   \n",
       "4                            Monsieur le professeur!      NaN          NaN   \n",
       "\n",
       "  conclusion  \n",
       "0        NaN  \n",
       "1        NaN  \n",
       "2        NaN  \n",
       "3        NaN  \n",
       "4        NaN  "
      ]
     },
     "execution_count": 17,
     "metadata": {},
     "output_type": "execute_result"
    }
   ],
   "source": [
    "df.head()"
   ]
  },
  {
   "cell_type": "code",
   "execution_count": 18,
   "metadata": {},
   "outputs": [],
   "source": [
    "df = df.drop(columns=['introduction', 'conclusion'])\n"
   ]
  },
  {
   "cell_type": "code",
   "execution_count": 19,
   "metadata": {},
   "outputs": [],
   "source": [
    "df = df.drop_duplicates(subset='url')"
   ]
  },
  {
   "cell_type": "code",
   "execution_count": 20,
   "metadata": {},
   "outputs": [
    {
     "data": {
      "text/plain": [
       "(2197457, 3)"
      ]
     },
     "execution_count": 20,
     "metadata": {},
     "output_type": "execute_result"
    }
   ],
   "source": [
    "df.shape"
   ]
  },
  {
   "cell_type": "code",
   "execution_count": 21,
   "metadata": {},
   "outputs": [
    {
     "data": {
      "text/plain": [
       "(1668188, 3)"
      ]
     },
     "execution_count": 21,
     "metadata": {},
     "output_type": "execute_result"
    }
   ],
   "source": [
    "df = df.dropna(subset=['abstract'])\n",
    "df.shape"
   ]
  },
  {
   "cell_type": "code",
   "execution_count": 22,
   "metadata": {},
   "outputs": [
    {
     "data": {
      "text/html": [
       "<div>\n",
       "<style scoped>\n",
       "    .dataframe tbody tr th:only-of-type {\n",
       "        vertical-align: middle;\n",
       "    }\n",
       "\n",
       "    .dataframe tbody tr th {\n",
       "        vertical-align: top;\n",
       "    }\n",
       "\n",
       "    .dataframe thead th {\n",
       "        text-align: right;\n",
       "    }\n",
       "</style>\n",
       "<table border=\"1\" class=\"dataframe\">\n",
       "  <thead>\n",
       "    <tr style=\"text-align: right;\">\n",
       "      <th></th>\n",
       "      <th>url</th>\n",
       "      <th>title</th>\n",
       "      <th>abstract</th>\n",
       "    </tr>\n",
       "  </thead>\n",
       "  <tbody>\n",
       "    <tr>\n",
       "      <th>881</th>\n",
       "      <td>https://link.springer.com/article/10.1007/s007...</td>\n",
       "      <td>Novel carbon material with potential applicati...</td>\n",
       "      <td>AbstractLead-acid batteries (LABs) are one of ...</td>\n",
       "    </tr>\n",
       "    <tr>\n",
       "      <th>882</th>\n",
       "      <td>https://link.springer.com/article/10.1007/s007...</td>\n",
       "      <td>Specific conductivities of tetraalkylammonium ...</td>\n",
       "      <td>AbstractSearching for environmentally friendly...</td>\n",
       "    </tr>\n",
       "    <tr>\n",
       "      <th>883</th>\n",
       "      <td>https://link.springer.com/article/10.1007/s007...</td>\n",
       "      <td>Development of electrochemical sensor for quan...</td>\n",
       "      <td>AbstractThis study presents the development of...</td>\n",
       "    </tr>\n",
       "    <tr>\n",
       "      <th>884</th>\n",
       "      <td>https://link.springer.com/article/10.1007/s007...</td>\n",
       "      <td>Synthesis of thioamides from Schiff bases and ...</td>\n",
       "      <td>AbstractThioamides play an important role in p...</td>\n",
       "    </tr>\n",
       "    <tr>\n",
       "      <th>886</th>\n",
       "      <td>https://link.springer.com/article/10.1007/s007...</td>\n",
       "      <td>Mechanistic study and computational analysis o...</td>\n",
       "      <td>AbstractThe mechanism of electrochemical oxida...</td>\n",
       "    </tr>\n",
       "  </tbody>\n",
       "</table>\n",
       "</div>"
      ],
      "text/plain": [
       "                                                   url  \\\n",
       "881  https://link.springer.com/article/10.1007/s007...   \n",
       "882  https://link.springer.com/article/10.1007/s007...   \n",
       "883  https://link.springer.com/article/10.1007/s007...   \n",
       "884  https://link.springer.com/article/10.1007/s007...   \n",
       "886  https://link.springer.com/article/10.1007/s007...   \n",
       "\n",
       "                                                 title  \\\n",
       "881  Novel carbon material with potential applicati...   \n",
       "882  Specific conductivities of tetraalkylammonium ...   \n",
       "883  Development of electrochemical sensor for quan...   \n",
       "884  Synthesis of thioamides from Schiff bases and ...   \n",
       "886  Mechanistic study and computational analysis o...   \n",
       "\n",
       "                                              abstract  \n",
       "881  AbstractLead-acid batteries (LABs) are one of ...  \n",
       "882  AbstractSearching for environmentally friendly...  \n",
       "883  AbstractThis study presents the development of...  \n",
       "884  AbstractThioamides play an important role in p...  \n",
       "886  AbstractThe mechanism of electrochemical oxida...  "
      ]
     },
     "execution_count": 22,
     "metadata": {},
     "output_type": "execute_result"
    }
   ],
   "source": [
    "df.head()"
   ]
  },
  {
   "cell_type": "code",
   "execution_count": 23,
   "metadata": {
    "vscode": {
     "languageId": "ruby"
    }
   },
   "outputs": [
    {
     "data": {
      "text/plain": [
       "(1668187, 3)"
      ]
     },
     "execution_count": 23,
     "metadata": {},
     "output_type": "execute_result"
    }
   ],
   "source": [
    "# Remove rows with missing values in the 'title' column\n",
    "df = df.dropna(subset=['title'])\n",
    "\n",
    "# Remove leading and trailing whitespace from 'title' and 'abstract' columns\n",
    "df['title'] = df['title'].str.strip()\n",
    "df['abstract'] = df['abstract'].str.strip()\n",
    "\n",
    "# Display the first few rows of the preprocessed dataframe\n",
    "df.shape"
   ]
  },
  {
   "cell_type": "code",
   "execution_count": 24,
   "metadata": {},
   "outputs": [
    {
     "name": "stderr",
     "output_type": "stream",
     "text": [
      "C:\\Users\\PC\\AppData\\Local\\Temp\\ipykernel_6168\\639523643.py:7: MarkupResemblesLocatorWarning: The input looks more like a filename than markup. You may want to open this file and pass the filehandle into Beautiful Soup.\n",
      "  text = BeautifulSoup(text, \"html.parser\").get_text()\n"
     ]
    },
    {
     "data": {
      "text/html": [
       "<div>\n",
       "<style scoped>\n",
       "    .dataframe tbody tr th:only-of-type {\n",
       "        vertical-align: middle;\n",
       "    }\n",
       "\n",
       "    .dataframe tbody tr th {\n",
       "        vertical-align: top;\n",
       "    }\n",
       "\n",
       "    .dataframe thead th {\n",
       "        text-align: right;\n",
       "    }\n",
       "</style>\n",
       "<table border=\"1\" class=\"dataframe\">\n",
       "  <thead>\n",
       "    <tr style=\"text-align: right;\">\n",
       "      <th></th>\n",
       "      <th>url</th>\n",
       "      <th>title</th>\n",
       "      <th>abstract</th>\n",
       "    </tr>\n",
       "  </thead>\n",
       "  <tbody>\n",
       "    <tr>\n",
       "      <th>881</th>\n",
       "      <td>https://link.springer.com/article/10.1007/s007...</td>\n",
       "      <td>Novel carbon material with potential applicati...</td>\n",
       "      <td>AbstractLead-acid batteries (LABs) are one of ...</td>\n",
       "    </tr>\n",
       "    <tr>\n",
       "      <th>882</th>\n",
       "      <td>https://link.springer.com/article/10.1007/s007...</td>\n",
       "      <td>Specific conductivities of tetraalkylammonium ...</td>\n",
       "      <td>AbstractSearching for environmentally friendly...</td>\n",
       "    </tr>\n",
       "    <tr>\n",
       "      <th>883</th>\n",
       "      <td>https://link.springer.com/article/10.1007/s007...</td>\n",
       "      <td>Development of electrochemical sensor for quan...</td>\n",
       "      <td>AbstractThis study presents the development of...</td>\n",
       "    </tr>\n",
       "    <tr>\n",
       "      <th>884</th>\n",
       "      <td>https://link.springer.com/article/10.1007/s007...</td>\n",
       "      <td>Synthesis of thioamides from Schiff bases and ...</td>\n",
       "      <td>AbstractThioamides play an important role in p...</td>\n",
       "    </tr>\n",
       "    <tr>\n",
       "      <th>886</th>\n",
       "      <td>https://link.springer.com/article/10.1007/s007...</td>\n",
       "      <td>Mechanistic study and computational analysis o...</td>\n",
       "      <td>AbstractThe mechanism of electrochemical oxida...</td>\n",
       "    </tr>\n",
       "  </tbody>\n",
       "</table>\n",
       "</div>"
      ],
      "text/plain": [
       "                                                   url  \\\n",
       "881  https://link.springer.com/article/10.1007/s007...   \n",
       "882  https://link.springer.com/article/10.1007/s007...   \n",
       "883  https://link.springer.com/article/10.1007/s007...   \n",
       "884  https://link.springer.com/article/10.1007/s007...   \n",
       "886  https://link.springer.com/article/10.1007/s007...   \n",
       "\n",
       "                                                 title  \\\n",
       "881  Novel carbon material with potential applicati...   \n",
       "882  Specific conductivities of tetraalkylammonium ...   \n",
       "883  Development of electrochemical sensor for quan...   \n",
       "884  Synthesis of thioamides from Schiff bases and ...   \n",
       "886  Mechanistic study and computational analysis o...   \n",
       "\n",
       "                                              abstract  \n",
       "881  AbstractLead-acid batteries (LABs) are one of ...  \n",
       "882  AbstractSearching for environmentally friendly...  \n",
       "883  AbstractThis study presents the development of...  \n",
       "884  AbstractThioamides play an important role in p...  \n",
       "886  AbstractThe mechanism of electrochemical oxida...  "
      ]
     },
     "execution_count": 24,
     "metadata": {},
     "output_type": "execute_result"
    }
   ],
   "source": [
    "import re\n",
    "from bs4 import BeautifulSoup\n",
    "\n",
    "# Function to clean text\n",
    "def clean_text(text):\n",
    "    # Remove HTML tags\n",
    "    text = BeautifulSoup(text, \"html.parser\").get_text()\n",
    "    \n",
    "    text = re.sub(r\"\\s+\", \" \", text).strip()\n",
    "    \n",
    "    return text\n",
    "\n",
    "# Apply the clean_text function to 'title' and 'abstract' columns\n",
    "df['title'] = df['title'].apply(clean_text)\n",
    "df['abstract'] = df['abstract'].apply(clean_text)\n",
    "\n",
    "# Display the first few rows of the cleaned dataframe\n",
    "df.head()"
   ]
  },
  {
   "cell_type": "code",
   "execution_count": 25,
   "metadata": {},
   "outputs": [],
   "source": [
    "df.to_csv('preprocessed_data.csv', index=False)"
   ]
  }
 ],
 "metadata": {
  "kernelspec": {
   "display_name": "Python 3",
   "language": "python",
   "name": "python3"
  },
  "language_info": {
   "codemirror_mode": {
    "name": "ipython",
    "version": 3
   },
   "file_extension": ".py",
   "mimetype": "text/x-python",
   "name": "python",
   "nbconvert_exporter": "python",
   "pygments_lexer": "ipython3",
   "version": "3.12.4"
  }
 },
 "nbformat": 4,
 "nbformat_minor": 2
}
