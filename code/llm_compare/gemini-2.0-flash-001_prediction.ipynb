{
 "cells": [
  {
   "cell_type": "code",
   "execution_count": null,
   "id": "4c0a9a16",
   "metadata": {
    "trusted": true
   },
   "outputs": [],
   "source": [
    "%%capture\n",
    "%pip install -q -U google-genai\n",
    "%pip install google-cloud-aiplatform\n"
   ]
  },
  {
   "cell_type": "code",
   "execution_count": null,
   "id": "9647c4fc",
   "metadata": {
    "trusted": true
   },
   "outputs": [],
   "source": [
    "import pandas as pd\n",
    "import google.generativeai as genai\n",
    "import time\n",
    "import os\n",
    "\n",
    "genai.configure(api_key=\"\")\n",
    "generation_config = {\n",
    "    \"temperature\": 0.7,  # Lower temperature for more deterministic outputs\n",
    "    \"max_output_tokens\": 32,  # Limit output to keep titles concise\n",
    "}\n",
    "\n",
    "# Safety settings (adjust as needed)\n",
    "safety_settings = [\n",
    "    {\"category\": \"HARM_CATEGORY_HARASSMENT\", \"threshold\": \"BLOCK_NONE\"},\n",
    "    {\"category\": \"HARM_CATEGORY_HATE_SPEECH\", \"threshold\": \"BLOCK_NONE\"},\n",
    "    {\"category\": \"HARM_CATEGORY_SEXUALLY_EXPLICIT\", \"threshold\": \"BLOCK_NONE\"},\n",
    "    {\"category\": \"HARM_CATEGORY_DANGEROUS_CONTENT\", \"threshold\": \"BLOCK_NONE\"},\n",
    "]\n",
    "\n",
    "# Initialize Gemini model\n",
    "model = genai.GenerativeModel(\n",
    "    model_name=\"gemini-2.0-flash-001\",\n",
    "    generation_config=generation_config,\n",
    "    safety_settings=safety_settings\n",
    ")\n",
    "\n",
    "input_csv = \"/kaggle/input/springerjournal-450tk-0-5cosine/test.csv\"\n",
    "output_csv = \"/kaggle/working/generated_titles.csv\""
   ]
  },
  {
   "cell_type": "code",
   "execution_count": null,
   "id": "b51e16c6",
   "metadata": {
    "trusted": true
   },
   "outputs": [],
   "source": [
    "def generate_title(abstract):\n",
    "    \"\"\"Generate a title from an abstract using Gemini.\"\"\"\n",
    "    instruction = \"Write a consise, formal and structured title for this scientific research work, return ONLY the title:\\n\"\n",
    "    prompt = instruction + abstract + \"\\n\\nTitle:\"\n",
    "    try:\n",
    "        response = model.generate_content(prompt)\n",
    "        title = response.text.strip()\n",
    "        return title if title else \"Title generation failed\"\n",
    "    except Exception as e:\n",
    "        print(f\"Error generating title: {e}\")\n",
    "        return \"Error: Unable to generate title\"\n",
    "\n",
    "def process_csv(input_csv, output_csv, batch_size=10):\n",
    "    \"\"\"Process CSV file in batches and generate titles.\"\"\"\n",
    "    # Read CSV\n",
    "    df = pd.read_csv(input_csv)\n",
    "    \n",
    "    # Ensure 'abstract' column exists\n",
    "    if 'abstract' not in df.columns:\n",
    "        raise ValueError(\"CSV must contain an 'abstract' column\")\n",
    "    \n",
    "    # Initialize column for generated titles\n",
    "    df['generated_title'] = \"\"\n",
    "    \n",
    "    # Process in batches\n",
    "    for i in range(0, len(df), batch_size):\n",
    "        batch = df[i:i + batch_size]\n",
    "        for index, row in batch.iterrows():\n",
    "            print(f\"Processing abstract {index + 1}/{len(df)}\")\n",
    "            df.at[index, 'generated_title'] = generate_title(row['abstract'])\n",
    "            time.sleep(1)  # Delay to respect API rate limits\n",
    "        \n",
    "        # Save progress periodically\n",
    "        df.to_csv(output_csv, index=False)\n",
    "        print(f\"Progress saved to {output_csv} after processing {i + batch_size} abstracts\")\n",
    "    \n",
    "    return df"
   ]
  },
  {
   "cell_type": "code",
   "execution_count": null,
   "id": "416d4b16",
   "metadata": {
    "trusted": true
   },
   "outputs": [],
   "source": [
    "# Process the CSV\n",
    "try:\n",
    "    result_df = process_csv(input_csv, output_csv)\n",
    "    print(f\"Title generation completed. Results saved to {output_csv}\")\n",
    "except Exception as e:\n",
    "    print(f\"Error processing CSV: {e}\")"
   ]
  }
 ],
 "metadata": {
  "kaggle": {
   "accelerator": "none",
   "dataSources": [
    {
     "datasetId": 7375569,
     "sourceId": 11748736,
     "sourceType": "datasetVersion"
    }
   ],
   "dockerImageVersionId": 31040,
   "isGpuEnabled": false,
   "isInternetEnabled": true,
   "language": "python",
   "sourceType": "notebook"
  },
  "kernelspec": {
   "display_name": "py313_env",
   "language": "python",
   "name": "python3"
  },
  "language_info": {
   "codemirror_mode": {
    "name": "ipython",
    "version": 3
   },
   "file_extension": ".py",
   "mimetype": "text/x-python",
   "name": "python",
   "nbconvert_exporter": "python",
   "pygments_lexer": "ipython3",
   "version": "3.12.9"
  }
 },
 "nbformat": 4,
 "nbformat_minor": 5
}
